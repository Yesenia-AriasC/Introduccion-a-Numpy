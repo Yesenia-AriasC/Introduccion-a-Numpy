{
  "nbformat": 4,
  "nbformat_minor": 0,
  "metadata": {
    "colab": {
      "provenance": [],
      "toc_visible": true,
      "authorship_tag": "ABX9TyPQXidjGyMiBISd/z2Zl7ps",
      "include_colab_link": true
    },
    "kernelspec": {
      "name": "python3",
      "display_name": "Python 3"
    },
    "language_info": {
      "name": "python"
    }
  },
  "cells": [
    {
      "cell_type": "markdown",
      "metadata": {
        "id": "view-in-github",
        "colab_type": "text"
      },
      "source": [
        "<a href=\"https://colab.research.google.com/github/Yesenia-AriasC/Introduccion-a-Numpy/blob/main/8_Operaciones.ipynb\" target=\"_parent\"><img src=\"https://colab.research.google.com/assets/colab-badge.svg\" alt=\"Open In Colab\"/></a>"
      ]
    },
    {
      "cell_type": "code",
      "execution_count": 1,
      "metadata": {
        "id": "eNoDw9aRv5Zs"
      },
      "outputs": [],
      "source": [
        "import numpy as np"
      ]
    },
    {
      "cell_type": "markdown",
      "source": [
        "# Operaciones\n",
        "[Working with mathematical formulas](https://numpy.org/doc/stable/user/absolute_beginners.html#working-with-mathematical-formulas)"
      ],
      "metadata": {
        "id": "g_WbTJHdwiML"
      }
    },
    {
      "cell_type": "markdown",
      "source": [
        "Definamos los arreglos con los que trabajaremos"
      ],
      "metadata": {
        "id": "U0xCg2FvyWJT"
      }
    },
    {
      "cell_type": "code",
      "source": [
        "arr = np.arange(0,10)\n",
        "arr2 = arr.copy()\n",
        "arr"
      ],
      "metadata": {
        "colab": {
          "base_uri": "https://localhost:8080/"
        },
        "id": "I2S4_FbFwp8Y",
        "outputId": "73738800-fd12-49a7-fc93-a70f48f8dd43"
      },
      "execution_count": 2,
      "outputs": [
        {
          "output_type": "execute_result",
          "data": {
            "text/plain": [
              "array([0, 1, 2, 3, 4, 5, 6, 7, 8, 9])"
            ]
          },
          "metadata": {},
          "execution_count": 2
        }
      ]
    },
    {
      "cell_type": "code",
      "source": [
        "matriz = arr.reshape(2,5)\n",
        "matriz2 = matriz.copy()\n",
        "matriz"
      ],
      "metadata": {
        "colab": {
          "base_uri": "https://localhost:8080/"
        },
        "id": "LCK57rtzygIo",
        "outputId": "abe15bfc-6fae-4656-e560-e5e0ab5c0e56"
      },
      "execution_count": 6,
      "outputs": [
        {
          "output_type": "execute_result",
          "data": {
            "text/plain": [
              "array([[0, 1, 2, 3, 4],\n",
              "       [5, 6, 7, 8, 9]])"
            ]
          },
          "metadata": {},
          "execution_count": 6
        }
      ]
    },
    {
      "cell_type": "markdown",
      "source": [
        "# Multipicar por un escalar"
      ],
      "metadata": {
        "id": "w98wNtNxyRCV"
      }
    },
    {
      "cell_type": "code",
      "source": [
        "arr*2"
      ],
      "metadata": {
        "colab": {
          "base_uri": "https://localhost:8080/"
        },
        "id": "4ZSpZYN7yI3o",
        "outputId": "7784900b-7b55-4933-9e6c-387142c63790"
      },
      "execution_count": 3,
      "outputs": [
        {
          "output_type": "execute_result",
          "data": {
            "text/plain": [
              "array([ 0,  2,  4,  6,  8, 10, 12, 14, 16, 18])"
            ]
          },
          "metadata": {},
          "execution_count": 3
        }
      ]
    },
    {
      "cell_type": "code",
      "source": [
        "matriz*2"
      ],
      "metadata": {
        "colab": {
          "base_uri": "https://localhost:8080/"
        },
        "id": "4TiMchqXyt6F",
        "outputId": "79b56b98-1b14-4c6c-ce75-e229933d1ce2"
      },
      "execution_count": 7,
      "outputs": [
        {
          "output_type": "execute_result",
          "data": {
            "text/plain": [
              "array([[ 0,  2,  4,  6,  8],\n",
              "       [10, 12, 14, 16, 18]])"
            ]
          },
          "metadata": {},
          "execution_count": 7
        }
      ]
    },
    {
      "cell_type": "markdown",
      "source": [
        "# Suma "
      ],
      "metadata": {
        "id": "5yPwdOxzzAxb"
      }
    },
    {
      "cell_type": "markdown",
      "source": [
        "## Suma de un escalar"
      ],
      "metadata": {
        "id": "L6CN2iN01FQo"
      }
    },
    {
      "cell_type": "markdown",
      "source": [
        "### Vector"
      ],
      "metadata": {
        "id": "mNlO9frRzg8f"
      }
    },
    {
      "cell_type": "code",
      "source": [
        "arr"
      ],
      "metadata": {
        "colab": {
          "base_uri": "https://localhost:8080/"
        },
        "id": "b-2_2X_BzM8b",
        "outputId": "e92bea66-1663-4255-ddd7-ab3ea92d5e7b"
      },
      "execution_count": 10,
      "outputs": [
        {
          "output_type": "execute_result",
          "data": {
            "text/plain": [
              "array([0, 1, 2, 3, 4, 5, 6, 7, 8, 9])"
            ]
          },
          "metadata": {},
          "execution_count": 10
        }
      ]
    },
    {
      "cell_type": "code",
      "source": [
        "arr+2"
      ],
      "metadata": {
        "colab": {
          "base_uri": "https://localhost:8080/"
        },
        "id": "0pENT1cEzEnj",
        "outputId": "292c2cbb-1a64-4e89-a3b4-5aff59148d16"
      },
      "execution_count": 9,
      "outputs": [
        {
          "output_type": "execute_result",
          "data": {
            "text/plain": [
              "array([ 2,  3,  4,  5,  6,  7,  8,  9, 10, 11])"
            ]
          },
          "metadata": {},
          "execution_count": 9
        }
      ]
    },
    {
      "cell_type": "markdown",
      "source": [
        "### Matriz"
      ],
      "metadata": {
        "id": "XEd-8YItzWFG"
      }
    },
    {
      "cell_type": "code",
      "source": [
        "matriz"
      ],
      "metadata": {
        "colab": {
          "base_uri": "https://localhost:8080/"
        },
        "id": "xa7glS78zQhu",
        "outputId": "63340c90-5568-48b0-e34d-840a8cc80a27"
      },
      "execution_count": 11,
      "outputs": [
        {
          "output_type": "execute_result",
          "data": {
            "text/plain": [
              "array([[0, 1, 2, 3, 4],\n",
              "       [5, 6, 7, 8, 9]])"
            ]
          },
          "metadata": {},
          "execution_count": 11
        }
      ]
    },
    {
      "cell_type": "code",
      "source": [
        "matriz+2"
      ],
      "metadata": {
        "colab": {
          "base_uri": "https://localhost:8080/"
        },
        "id": "EB5eIL3OzSoY",
        "outputId": "4b325b8f-1b5e-4710-b71e-539869be5448"
      },
      "execution_count": 12,
      "outputs": [
        {
          "output_type": "execute_result",
          "data": {
            "text/plain": [
              "array([[ 2,  3,  4,  5,  6],\n",
              "       [ 7,  8,  9, 10, 11]])"
            ]
          },
          "metadata": {},
          "execution_count": 12
        }
      ]
    },
    {
      "cell_type": "markdown",
      "source": [
        "## Suma de arrays / matrices"
      ],
      "metadata": {
        "id": "yNH4IPaT1TfG"
      }
    },
    {
      "cell_type": "markdown",
      "source": [
        "Sumar dos arrays de igual dimensiones las hace elemento por elemento:"
      ],
      "metadata": {
        "id": "OffKM0zG1gtB"
      }
    },
    {
      "cell_type": "code",
      "source": [
        "arr + arr2"
      ],
      "metadata": {
        "colab": {
          "base_uri": "https://localhost:8080/"
        },
        "id": "RovtWRTk1mCG",
        "outputId": "70699a0f-11bf-4175-9a42-49406ae25a9a"
      },
      "execution_count": 22,
      "outputs": [
        {
          "output_type": "execute_result",
          "data": {
            "text/plain": [
              "array([ 0,  2,  4,  6,  8, 10, 12, 14, 16, 18])"
            ]
          },
          "metadata": {},
          "execution_count": 22
        }
      ]
    },
    {
      "cell_type": "markdown",
      "source": [
        "Aplica también para matrices"
      ],
      "metadata": {
        "id": "Q7NO47MM1pIY"
      }
    },
    {
      "cell_type": "code",
      "source": [
        "matriz + matriz2"
      ],
      "metadata": {
        "colab": {
          "base_uri": "https://localhost:8080/"
        },
        "id": "4X7CNUnk1ZPZ",
        "outputId": "9fb6f193-da3c-49af-f6b3-37865eca8a0d"
      },
      "execution_count": 21,
      "outputs": [
        {
          "output_type": "execute_result",
          "data": {
            "text/plain": [
              "array([[ 0,  2,  4,  6,  8],\n",
              "       [10, 12, 14, 16, 18]])"
            ]
          },
          "metadata": {},
          "execution_count": 21
        }
      ]
    },
    {
      "cell_type": "markdown",
      "source": [
        "# Dividir un escalar por un vector / matriz"
      ],
      "metadata": {
        "id": "sRo-kxqhzzuq"
      }
    },
    {
      "cell_type": "markdown",
      "source": [
        "### Vector"
      ],
      "metadata": {
        "id": "LTcUmLIa0PsL"
      }
    },
    {
      "cell_type": "code",
      "source": [
        "arr"
      ],
      "metadata": {
        "colab": {
          "base_uri": "https://localhost:8080/"
        },
        "id": "0VcDfNfDz8wI",
        "outputId": "37f655f8-fb08-41d7-c990-6c10a1d78009"
      },
      "execution_count": 14,
      "outputs": [
        {
          "output_type": "execute_result",
          "data": {
            "text/plain": [
              "array([0, 1, 2, 3, 4, 5, 6, 7, 8, 9])"
            ]
          },
          "metadata": {},
          "execution_count": 14
        }
      ]
    },
    {
      "cell_type": "code",
      "source": [
        "1/arr"
      ],
      "metadata": {
        "colab": {
          "base_uri": "https://localhost:8080/"
        },
        "id": "jo8mHAs_z45p",
        "outputId": "26c1a77d-9c61-4398-9259-d4e7c796fcca"
      },
      "execution_count": 13,
      "outputs": [
        {
          "output_type": "stream",
          "name": "stderr",
          "text": [
            "<ipython-input-13-016353831300>:1: RuntimeWarning: divide by zero encountered in true_divide\n",
            "  1/arr\n"
          ]
        },
        {
          "output_type": "execute_result",
          "data": {
            "text/plain": [
              "array([       inf, 1.        , 0.5       , 0.33333333, 0.25      ,\n",
              "       0.2       , 0.16666667, 0.14285714, 0.125     , 0.11111111])"
            ]
          },
          "metadata": {},
          "execution_count": 13
        }
      ]
    },
    {
      "cell_type": "markdown",
      "source": [
        "### Matriz"
      ],
      "metadata": {
        "id": "9HfDI0Is0Rp0"
      }
    },
    {
      "cell_type": "code",
      "source": [
        "matriz"
      ],
      "metadata": {
        "colab": {
          "base_uri": "https://localhost:8080/"
        },
        "id": "h89pZ8HG0AD3",
        "outputId": "7c21f23c-2fc9-4316-ed11-ebf0362f2925"
      },
      "execution_count": 15,
      "outputs": [
        {
          "output_type": "execute_result",
          "data": {
            "text/plain": [
              "array([[0, 1, 2, 3, 4],\n",
              "       [5, 6, 7, 8, 9]])"
            ]
          },
          "metadata": {},
          "execution_count": 15
        }
      ]
    },
    {
      "cell_type": "code",
      "source": [
        "1/matriz"
      ],
      "metadata": {
        "colab": {
          "base_uri": "https://localhost:8080/"
        },
        "id": "p3O0h_2cz_y2",
        "outputId": "74b98a1d-19e4-49d7-a55c-ec2464423169"
      },
      "execution_count": 16,
      "outputs": [
        {
          "output_type": "stream",
          "name": "stderr",
          "text": [
            "<ipython-input-16-5153dd94ba41>:1: RuntimeWarning: divide by zero encountered in true_divide\n",
            "  1/matriz\n"
          ]
        },
        {
          "output_type": "execute_result",
          "data": {
            "text/plain": [
              "array([[       inf, 1.        , 0.5       , 0.33333333, 0.25      ],\n",
              "       [0.2       , 0.16666667, 0.14285714, 0.125     , 0.11111111]])"
            ]
          },
          "metadata": {},
          "execution_count": 16
        }
      ]
    },
    {
      "cell_type": "markdown",
      "source": [
        "# Exponencial"
      ],
      "metadata": {
        "id": "2Sfh1Z5S0c7t"
      }
    },
    {
      "cell_type": "markdown",
      "source": [
        "### Vector"
      ],
      "metadata": {
        "id": "wYf4B0Q80q2C"
      }
    },
    {
      "cell_type": "code",
      "source": [
        "arr"
      ],
      "metadata": {
        "colab": {
          "base_uri": "https://localhost:8080/"
        },
        "id": "p9aECe0j0gMN",
        "outputId": "14ecb3a1-217b-4d22-a6f8-329fd2aec440"
      },
      "execution_count": 17,
      "outputs": [
        {
          "output_type": "execute_result",
          "data": {
            "text/plain": [
              "array([0, 1, 2, 3, 4, 5, 6, 7, 8, 9])"
            ]
          },
          "metadata": {},
          "execution_count": 17
        }
      ]
    },
    {
      "cell_type": "code",
      "source": [
        "arr**2"
      ],
      "metadata": {
        "colab": {
          "base_uri": "https://localhost:8080/"
        },
        "id": "0NVI2QMm0i-b",
        "outputId": "b9557c8b-8e5b-4f7b-92cd-251ffeba6d6d"
      },
      "execution_count": 18,
      "outputs": [
        {
          "output_type": "execute_result",
          "data": {
            "text/plain": [
              "array([ 0,  1,  4,  9, 16, 25, 36, 49, 64, 81])"
            ]
          },
          "metadata": {},
          "execution_count": 18
        }
      ]
    },
    {
      "cell_type": "markdown",
      "source": [
        "### Matriz"
      ],
      "metadata": {
        "id": "y49HVRPw0stl"
      }
    },
    {
      "cell_type": "code",
      "source": [
        "matriz"
      ],
      "metadata": {
        "colab": {
          "base_uri": "https://localhost:8080/"
        },
        "id": "vfwSbnWE0i1r",
        "outputId": "52946176-8d01-4ef1-9369-9dac63aaa81c"
      },
      "execution_count": 19,
      "outputs": [
        {
          "output_type": "execute_result",
          "data": {
            "text/plain": [
              "array([[0, 1, 2, 3, 4],\n",
              "       [5, 6, 7, 8, 9]])"
            ]
          },
          "metadata": {},
          "execution_count": 19
        }
      ]
    },
    {
      "cell_type": "code",
      "source": [
        "matriz**2"
      ],
      "metadata": {
        "colab": {
          "base_uri": "https://localhost:8080/"
        },
        "id": "GuRytJWg0imz",
        "outputId": "03a446ac-cbbf-408c-c44c-58148442d3c5"
      },
      "execution_count": 20,
      "outputs": [
        {
          "output_type": "execute_result",
          "data": {
            "text/plain": [
              "array([[ 0,  1,  4,  9, 16],\n",
              "       [25, 36, 49, 64, 81]])"
            ]
          },
          "metadata": {},
          "execution_count": 20
        }
      ]
    },
    {
      "cell_type": "markdown",
      "source": [
        "# Multiplicación de matrices"
      ],
      "metadata": {
        "id": "SgcBsEP37SsU"
      }
    },
    {
      "cell_type": "code",
      "source": [
        "matriz"
      ],
      "metadata": {
        "colab": {
          "base_uri": "https://localhost:8080/"
        },
        "id": "tfKwjt0F7dwV",
        "outputId": "78cd0daf-1a13-42e2-9dde-94051309d298"
      },
      "execution_count": 23,
      "outputs": [
        {
          "output_type": "execute_result",
          "data": {
            "text/plain": [
              "array([[0, 1, 2, 3, 4],\n",
              "       [5, 6, 7, 8, 9]])"
            ]
          },
          "metadata": {},
          "execution_count": 23
        }
      ]
    },
    {
      "cell_type": "code",
      "source": [
        "matriz2.T"
      ],
      "metadata": {
        "colab": {
          "base_uri": "https://localhost:8080/"
        },
        "id": "T2pJG51T7grK",
        "outputId": "c34e5ebb-6124-4dd2-e762-10f46f6695a9"
      },
      "execution_count": 25,
      "outputs": [
        {
          "output_type": "execute_result",
          "data": {
            "text/plain": [
              "array([[0, 5],\n",
              "       [1, 6],\n",
              "       [2, 7],\n",
              "       [3, 8],\n",
              "       [4, 9]])"
            ]
          },
          "metadata": {},
          "execution_count": 25
        }
      ]
    },
    {
      "cell_type": "markdown",
      "source": [
        "## .matmul()"
      ],
      "metadata": {
        "id": "kZSCnhqQ8JM9"
      }
    },
    {
      "cell_type": "code",
      "source": [
        "np.matmul(matriz, matriz2.T)"
      ],
      "metadata": {
        "colab": {
          "base_uri": "https://localhost:8080/"
        },
        "id": "EcDz1oof8HOz",
        "outputId": "22f78076-562d-4bc8-fdb6-4a8cbecb41e5"
      },
      "execution_count": 26,
      "outputs": [
        {
          "output_type": "execute_result",
          "data": {
            "text/plain": [
              "array([[ 30,  80],\n",
              "       [ 80, 255]])"
            ]
          },
          "metadata": {},
          "execution_count": 26
        }
      ]
    },
    {
      "cell_type": "markdown",
      "source": [
        "## @"
      ],
      "metadata": {
        "id": "GVpLpItR8WYx"
      }
    },
    {
      "cell_type": "code",
      "source": [
        "matriz @ matriz2.T"
      ],
      "metadata": {
        "colab": {
          "base_uri": "https://localhost:8080/"
        },
        "id": "f24AdAXl8HKe",
        "outputId": "78323665-d3c8-4898-824d-f6132632ff71"
      },
      "execution_count": 27,
      "outputs": [
        {
          "output_type": "execute_result",
          "data": {
            "text/plain": [
              "array([[ 30,  80],\n",
              "       [ 80, 255]])"
            ]
          },
          "metadata": {},
          "execution_count": 27
        }
      ]
    }
  ]
}