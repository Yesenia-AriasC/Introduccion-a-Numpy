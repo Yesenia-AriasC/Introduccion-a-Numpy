{
  "cells": [
    {
      "cell_type": "markdown",
      "metadata": {
        "id": "view-in-github",
        "colab_type": "text"
      },
      "source": [
        "<a href=\"https://colab.research.google.com/github/Yesenia-AriasC/Introduccion-a-Numpy/blob/main/1_Arrays_y_tipos_de_dato.ipynb\" target=\"_parent\"><img src=\"https://colab.research.google.com/assets/colab-badge.svg\" alt=\"Open In Colab\"/></a>"
      ]
    },
    {
      "cell_type": "markdown",
      "source": [
        "![Picture title](image-20221227-212312.png)"
      ],
      "metadata": {
        "tags": [],
        "cell_id": "9b5755749bc048979b10215aa1942f42",
        "deepnote_app_coordinates": {
          "h": 5,
          "w": 12,
          "x": 0,
          "y": 1
        },
        "deepnote_cell_type": "markdown",
        "id": "cOPANO_ijJ0R"
      }
    },
    {
      "cell_type": "markdown",
      "source": [
        "# ¿Por qué NumPy?\n",
        "Es una librería enfocada al cálculo númerico y manejo de Arrays.\n",
        "1. Es muy veloz, hasta 50 veces más rápido que usar una lista de Python o C.\n",
        "2. Optimiza el almacenamiento en memoria.\n",
        "3. Además, maneja distintos tipos de datos.\n",
        "\n",
        "Es una librería muy poderosa, se pueden crear redes neuronales desde cero."
      ],
      "metadata": {
        "id": "5oVeIykU4Ovz",
        "cell_id": "50638f7e438c454197a7124d2e8cc063",
        "deepnote_app_coordinates": {
          "h": 5,
          "w": 12,
          "x": 0,
          "y": 7
        },
        "deepnote_cell_type": "markdown"
      }
    },
    {
      "cell_type": "markdown",
      "source": [
        "## Importar Numpy"
      ],
      "metadata": {
        "id": "nQgxX_g75IIW",
        "cell_id": "46d44388dfab489f9ddb04c663ffa792",
        "deepnote_app_coordinates": {
          "h": 5,
          "w": 12,
          "x": 0,
          "y": 13
        },
        "deepnote_cell_type": "markdown"
      }
    },
    {
      "cell_type": "code",
      "source": [
        "import numpy as np"
      ],
      "metadata": {
        "id": "HVjEXG9p1-_j",
        "cell_id": "e9f48d93876d4a53a06cc3b09c5af9b8",
        "deepnote_app_coordinates": {
          "h": 5,
          "w": 12,
          "x": 0,
          "y": 19
        },
        "deepnote_cell_type": "code"
      },
      "outputs": [],
      "execution_count": null
    },
    {
      "cell_type": "markdown",
      "source": [
        "# Numpy array"
      ],
      "metadata": {
        "id": "N6YEI6Gy6LSR",
        "cell_id": "eb4343442ebf454583c1fe05f42acb2a",
        "deepnote_app_coordinates": {
          "h": 5,
          "w": 12,
          "x": 0,
          "y": 25
        },
        "deepnote_cell_type": "markdown"
      }
    },
    {
      "cell_type": "markdown",
      "source": [
        "El array es el principal objeto de la librería. Representa datos de manera estructurada y se puede acceder a ellos a través del indexado, a un dato específico o un grupo de muchos datos específicos.\n",
        "\n",
        "* Es la estructura central de Numpy\n",
        "* Representa los datos de una manera estructurada\n",
        "* Indexado (puedo identificar )\n",
        "* Acceso a uno o más elementos"
      ],
      "metadata": {
        "id": "B6kp-98x6aEi",
        "cell_id": "002d995e4fa04f3da67bc532caa444b7",
        "deepnote_app_coordinates": {
          "h": 5,
          "w": 12,
          "x": 0,
          "y": 31
        },
        "deepnote_cell_type": "markdown"
      }
    },
    {
      "cell_type": "code",
      "source": [
        "# Creo una lista\n",
        "\n",
        "lista = [1, 2, 3, 4, 5, 6, 7, 8, 9]\n",
        "lista"
      ],
      "metadata": {
        "id": "g81IrvCl7dHs",
        "colab": {
          "base_uri": "https://localhost:8080/"
        },
        "cell_id": "8ca37842bdbe4f9d8e2c2598989fd2b9",
        "outputId": "e32f8af3-e3df-4f1b-bdc8-df02ead806ae",
        "deepnote_app_coordinates": {
          "h": 5,
          "w": 12,
          "x": 0,
          "y": 37
        },
        "deepnote_cell_type": "code"
      },
      "outputs": [
        {
          "output_type": "execute_result",
          "data": {
            "text/plain": "[1, 2, 3, 4, 5, 6, 7, 8, 9]"
          },
          "metadata": {},
          "execution_count": 3
        }
      ],
      "execution_count": null
    },
    {
      "cell_type": "code",
      "source": [
        "# Convierto a array\n",
        "\n",
        "arr = np.array(lista) # Este objeto tiene una sola dimensión\n",
        "arr"
      ],
      "metadata": {
        "id": "IpYEbcez7cMF",
        "colab": {
          "base_uri": "https://localhost:8080/"
        },
        "cell_id": "d4cb63aafb194e6a8ec0a1a1273aad18",
        "outputId": "3f938bc9-c9fa-406d-b657-0f4c5fc41de4",
        "deepnote_app_coordinates": {
          "h": 5,
          "w": 12,
          "x": 0,
          "y": 43
        },
        "deepnote_cell_type": "code"
      },
      "outputs": [
        {
          "output_type": "execute_result",
          "data": {
            "text/plain": "array([1, 2, 3, 4, 5, 6, 7, 8, 9])"
          },
          "metadata": {},
          "execution_count": 14
        }
      ],
      "execution_count": null
    },
    {
      "cell_type": "code",
      "source": [
        "type(arr)"
      ],
      "metadata": {
        "id": "pBwPFIAn-45w",
        "colab": {
          "base_uri": "https://localhost:8080/"
        },
        "cell_id": "d12dfaf5686e463b91ccae02b53d22a9",
        "outputId": "9c5e68ff-f92f-4ff9-de10-3390696a0229",
        "deepnote_app_coordinates": {
          "h": 5,
          "w": 12,
          "x": 0,
          "y": 49
        },
        "deepnote_cell_type": "code"
      },
      "outputs": [
        {
          "output_type": "execute_result",
          "data": {
            "text/plain": "numpy.ndarray"
          },
          "metadata": {},
          "execution_count": 17
        }
      ],
      "execution_count": null
    },
    {
      "cell_type": "code",
      "source": [
        "arr.shape\n"
      ],
      "metadata": {
        "id": "ihyOu_UZ8-jo",
        "colab": {
          "base_uri": "https://localhost:8080/"
        },
        "cell_id": "e3341f48e6424ed4a481bd11ff6b7710",
        "outputId": "9b644f1b-e010-4fbf-e7e9-823d6dbfa84a",
        "deepnote_app_coordinates": {
          "h": 5,
          "w": 12,
          "x": 0,
          "y": 55
        },
        "deepnote_cell_type": "code"
      },
      "outputs": [
        {
          "output_type": "execute_result",
          "data": {
            "text/plain": "(9,)"
          },
          "metadata": {},
          "execution_count": 18
        }
      ],
      "execution_count": null
    },
    {
      "cell_type": "markdown",
      "source": [
        "## Creando array de múltiple dimensión"
      ],
      "metadata": {
        "id": "fA-I7oCZ9Nm0",
        "cell_id": "a6cbca62be1c4698bc2e18a431d69ce5",
        "deepnote_app_coordinates": {
          "h": 5,
          "w": 12,
          "x": 0,
          "y": 61
        },
        "deepnote_cell_type": "markdown"
      }
    },
    {
      "cell_type": "markdown",
      "source": [
        "Crearemos un array de 2 dimensiónes, pues ahora necesito 2 números para ubicar un elemento dentro de mi array."
      ],
      "metadata": {
        "id": "ulcS3lG2-jGe",
        "cell_id": "c8ba43883d664d6182da0299808f48ec",
        "deepnote_app_coordinates": {
          "h": 5,
          "w": 12,
          "x": 0,
          "y": 67
        },
        "deepnote_cell_type": "markdown"
      }
    },
    {
      "cell_type": "code",
      "source": [
        "matriz = [[1, 2, 3], [4, 5, 6], [7, 8, 9], [7, 8, 9]]\n",
        "matriz = np.array(matriz)\n",
        "matriz"
      ],
      "metadata": {
        "id": "VpSGx6hK9TTh",
        "colab": {
          "base_uri": "https://localhost:8080/"
        },
        "cell_id": "d5203c1e07d8409ab0bf613457d940e5",
        "outputId": "cee7bf90-45de-4466-a921-5518f0c4a8a6",
        "deepnote_app_coordinates": {
          "h": 5,
          "w": 12,
          "x": 0,
          "y": 73
        },
        "deepnote_cell_type": "code"
      },
      "outputs": [
        {
          "output_type": "execute_result",
          "data": {
            "text/plain": "array([[1, 2, 3],\n       [4, 5, 6],\n       [7, 8, 9],\n       [7, 8, 9]])"
          },
          "metadata": {},
          "execution_count": 15
        }
      ],
      "execution_count": null
    },
    {
      "cell_type": "code",
      "source": [
        "matriz.shape"
      ],
      "metadata": {
        "id": "fni-e6SG9uFZ",
        "colab": {
          "base_uri": "https://localhost:8080/"
        },
        "cell_id": "1a7cc37bf2b44843a5f5b6f1adb452e2",
        "outputId": "a858957a-4a47-4f9b-bba8-988c03602948",
        "deepnote_app_coordinates": {
          "h": 5,
          "w": 12,
          "x": 0,
          "y": 79
        },
        "deepnote_cell_type": "code"
      },
      "outputs": [
        {
          "output_type": "execute_result",
          "data": {
            "text/plain": "(4, 3)"
          },
          "metadata": {},
          "execution_count": 16
        }
      ],
      "execution_count": null
    },
    {
      "cell_type": "code",
      "source": [
        "matriz.size"
      ],
      "metadata": {
        "id": "s4D9Ybhj-9s7",
        "colab": {
          "base_uri": "https://localhost:8080/"
        },
        "cell_id": "cad0a114a0c04cb39a7c3f1d694bf325",
        "outputId": "918ce257-225e-43c7-fa0f-e0648a464788",
        "deepnote_app_coordinates": {
          "h": 5,
          "w": 12,
          "x": 0,
          "y": 85
        },
        "deepnote_cell_type": "code"
      },
      "outputs": [
        {
          "output_type": "execute_result",
          "data": {
            "text/plain": "12"
          },
          "metadata": {},
          "execution_count": 19
        }
      ],
      "execution_count": null
    },
    {
      "cell_type": "markdown",
      "source": [
        "## Acceder a elementos del Array"
      ],
      "metadata": {
        "id": "b1oFJOwC_WsU",
        "cell_id": "9b9696b57dfa43c88b4c2d89c65e51f2",
        "deepnote_app_coordinates": {
          "h": 5,
          "w": 12,
          "x": 0,
          "y": 91
        },
        "deepnote_cell_type": "markdown"
      }
    },
    {
      "cell_type": "code",
      "source": [
        "print(arr[0], arr[2], \"La suma de lo anterior es:\" ,arr[0]+arr[2], sep=\"\\n\")"
      ],
      "metadata": {
        "id": "oTocr4tD_cF7",
        "colab": {
          "base_uri": "https://localhost:8080/"
        },
        "cell_id": "92f1c071f6234aab87f6d5bade1698b9",
        "outputId": "d2cc828a-74b1-44a6-f009-886a41ed21c4",
        "deepnote_app_coordinates": {
          "h": 5,
          "w": 12,
          "x": 0,
          "y": 97
        },
        "deepnote_cell_type": "code"
      },
      "outputs": [
        {
          "output_type": "stream",
          "name": "stdout",
          "text": "1\n3\nLa suma de lo anterior es:\n4\n"
        }
      ],
      "execution_count": null
    },
    {
      "cell_type": "code",
      "source": [
        "print(matriz[0], matriz[0,0], sep=\"\\n\")"
      ],
      "metadata": {
        "id": "6mapaVpj_iFY",
        "colab": {
          "base_uri": "https://localhost:8080/"
        },
        "cell_id": "62027f373aab4b29ae17da698f7f072e",
        "outputId": "f046d9c7-e0f8-42cb-8ff1-6be880592f41",
        "deepnote_app_coordinates": {
          "h": 5,
          "w": 12,
          "x": 0,
          "y": 103
        },
        "deepnote_cell_type": "code"
      },
      "outputs": [
        {
          "output_type": "stream",
          "name": "stdout",
          "text": "[1 2 3]\n1\n"
        }
      ],
      "execution_count": null
    },
    {
      "cell_type": "markdown",
      "source": [
        "### Slicing"
      ],
      "metadata": {
        "id": "d2SQDM1pBadC",
        "cell_id": "99b3302dc4ca4f749bd740f290b21cbb",
        "deepnote_app_coordinates": {
          "h": 5,
          "w": 12,
          "x": 0,
          "y": 109
        },
        "deepnote_cell_type": "markdown"
      }
    },
    {
      "cell_type": "markdown",
      "source": [
        "Recuerde que python comienza a contar desde 0"
      ],
      "metadata": {
        "id": "OVqic-kJDJoD",
        "cell_id": "50d5c0cd795448f5ac8f8086f1658016",
        "deepnote_app_coordinates": {
          "h": 5,
          "w": 12,
          "x": 0,
          "y": 115
        },
        "deepnote_cell_type": "markdown"
      }
    },
    {
      "cell_type": "code",
      "source": [
        "print(arr)\n",
        "print(arr[1:3]) # imprime las posiciones 1 y 2 (no imprime la tercera)\n",
        "print(arr[:3])  # desde el inicio hasta la posiión 2\n",
        "print(arr[3:])  # posicion 3 en adelante\n",
        "print(arr[:])   # Todo\n",
        "print(arr[::3]) # Todos pero de 3 en 3 -> posiciones 0, 3 y 6\n",
        "print(arr[-1])  # Primer valor desde el final hasta el comienzo\n",
        "print(arr[::-1])# Toda la lista pero en orden \"al revés\"\n",
        "print(arr[-3:]) # Los 3 últimos valores"
      ],
      "metadata": {
        "id": "T4SePGm7BjhI",
        "colab": {
          "base_uri": "https://localhost:8080/"
        },
        "cell_id": "260c118307174397a6d525801c442d68",
        "outputId": "87c2f42f-6000-4b56-dd3e-3c6784cd1d42",
        "deepnote_app_coordinates": {
          "h": 5,
          "w": 12,
          "x": 0,
          "y": 121
        },
        "deepnote_cell_type": "code"
      },
      "outputs": [
        {
          "output_type": "stream",
          "name": "stdout",
          "text": "[1 2 3 4 5 6 7 8 9]\n[2 3]\n[1 2 3]\n[4 5 6 7 8 9]\n[1 2 3 4 5 6 7 8 9]\n[1 4 7]\n9\n[9 8 7 6 5 4 3 2 1]\n[7 8 9]\n"
        }
      ],
      "execution_count": null
    },
    {
      "cell_type": "code",
      "source": [
        "print(matriz, end=\"\\n\\n\")\n",
        "print(matriz[1:], end=\"\\n\\n\") # Fila 1 en adelante\n",
        "print(matriz[1:,0:2])         # Fila 1 en adelante y primeras dos columnas"
      ],
      "metadata": {
        "id": "IG8FiJN-BkXE",
        "colab": {
          "base_uri": "https://localhost:8080/"
        },
        "cell_id": "12658ec405de423f8dab0826053fd448",
        "outputId": "a6d11464-4da7-4f80-a156-bc39ff589628",
        "deepnote_app_coordinates": {
          "h": 5,
          "w": 12,
          "x": 0,
          "y": 127
        },
        "deepnote_cell_type": "code"
      },
      "outputs": [
        {
          "output_type": "stream",
          "name": "stdout",
          "text": "[[1 2 3]\n [4 5 6]\n [7 8 9]\n [7 8 9]]\n\n[[4 5 6]\n [7 8 9]\n [7 8 9]]\n\n[[4 5]\n [7 8]\n [7 8]]\n"
        }
      ],
      "execution_count": null
    },
    {
      "cell_type": "markdown",
      "source": [
        "# Tipos de dato Numpy\n",
        "[Todos los tipos de dato aquí](https://numpy.org/doc/stable/user/basics.types.html)"
      ],
      "metadata": {
        "id": "qIfS_pwLVF29",
        "cell_id": "573937ff4e304b348e4c164b6497d851",
        "deepnote_app_coordinates": {
          "h": 5,
          "w": 12,
          "x": 0,
          "y": 133
        },
        "deepnote_cell_type": "markdown"
      }
    },
    {
      "cell_type": "markdown",
      "source": [
        "Los arrays de NumPy solo pueden contener __un tipo de dato__, ya que esto es lo que le confiere las ventajas de la optimización de memoria.\n",
        "\n",
        "El array de Numpy únicamente puede tener un único tipo de datos en el cual va a trabajar. No puedo tener la mitad del array en int y la otra mitad en bool.\n",
        "\n",
        "Podemos conocer el tipo de datos del array consultando la propiedad ```.dtype```"
      ],
      "metadata": {
        "id": "1GDZH7SDVLAr",
        "cell_id": "013a14f819b949f89318e65d748545cd",
        "deepnote_app_coordinates": {
          "h": 5,
          "w": 12,
          "x": 0,
          "y": 139
        },
        "deepnote_cell_type": "markdown"
      }
    },
    {
      "cell_type": "code",
      "source": [
        "arr = np.array([1, 2, 3, 4])\n",
        "arr.dtype"
      ],
      "metadata": {
        "id": "hye87KgJBkDX",
        "colab": {
          "base_uri": "https://localhost:8080/"
        },
        "cell_id": "f94b5740904342a5a9cf8ef615a14b5b",
        "outputId": "4a6c3124-ca9f-4f51-b828-0cd9b77f0879",
        "deepnote_app_coordinates": {
          "h": 5,
          "w": 12,
          "x": 0,
          "y": 145
        },
        "deepnote_cell_type": "code"
      },
      "outputs": [
        {
          "output_type": "execute_result",
          "data": {
            "text/plain": "dtype('int64')"
          },
          "metadata": {},
          "execution_count": 3
        }
      ],
      "execution_count": null
    },
    {
      "cell_type": "markdown",
      "source": [
        "## dtype\n",
        "\n",
        "Si queremos usar otro tipo de dato, lo podemos definir en la declaración del array."
      ],
      "metadata": {
        "id": "2vGEdt2kVzjM",
        "cell_id": "cbbe1cfdfef441449bd9a441c9bbcd4d",
        "deepnote_app_coordinates": {
          "h": 5,
          "w": 12,
          "x": 0,
          "y": 151
        },
        "deepnote_cell_type": "markdown"
      }
    },
    {
      "cell_type": "code",
      "source": [
        "arr = np.array([1, 2, 3, 4], dtype = 'float64')\n",
        "print(arr.dtype)\n",
        "print(arr) # Ya tienen punto decimal"
      ],
      "metadata": {
        "id": "zja1OlWMV3KS",
        "colab": {
          "base_uri": "https://localhost:8080/"
        },
        "cell_id": "f51fa24ae74e4c6592eba40faccf87fd",
        "outputId": "47f9ad8a-726b-4d3d-d54c-0c082f00f97d",
        "deepnote_app_coordinates": {
          "h": 5,
          "w": 12,
          "x": 0,
          "y": 157
        },
        "deepnote_cell_type": "code"
      },
      "outputs": [
        {
          "output_type": "stream",
          "name": "stdout",
          "text": "float64\n[1. 2. 3. 4.]\n"
        }
      ],
      "execution_count": null
    },
    {
      "cell_type": "markdown",
      "source": [
        "## .astype()\n",
        "\n",
        "Si ya se tiene el array definido, se utiliza el método ```.astype()``` para convertir el tipo de dato."
      ],
      "metadata": {
        "id": "YwG17JSeWXuI",
        "cell_id": "18db440a937b4cc09cb02b8f4880aeb9",
        "deepnote_app_coordinates": {
          "h": 5,
          "w": 12,
          "x": 0,
          "y": 163
        },
        "deepnote_cell_type": "markdown"
      }
    },
    {
      "cell_type": "markdown",
      "source": [
        "### .astype(np.float64)\n",
        "\n",
        "Tipo flotante - Trabaja mejor con las redes neuronales / Tensorflow y Pytorch."
      ],
      "metadata": {
        "id": "PiSDbyowYjPf",
        "cell_id": "fef470c44e354b94bee066ffe5c78958",
        "deepnote_app_coordinates": {
          "h": 5,
          "w": 12,
          "x": 0,
          "y": 169
        },
        "deepnote_cell_type": "markdown"
      }
    },
    {
      "cell_type": "code",
      "source": [
        "arr = np.array([1, 2, 3, 4])\n",
        "arr = arr.astype(np.float64)\n",
        "arr"
      ],
      "metadata": {
        "id": "R8TKP9_VWsIF",
        "colab": {
          "base_uri": "https://localhost:8080/"
        },
        "cell_id": "88189471dc5246e19cb72557089e339e",
        "outputId": "74d63615-3213-4507-9b6a-75ef0c2bec77",
        "deepnote_app_coordinates": {
          "h": 5,
          "w": 12,
          "x": 0,
          "y": 175
        },
        "deepnote_cell_type": "code"
      },
      "outputs": [
        {
          "output_type": "execute_result",
          "data": {
            "text/plain": "array([1., 2., 3., 4.])"
          },
          "metadata": {},
          "execution_count": 6
        }
      ],
      "execution_count": null
    },
    {
      "cell_type": "markdown",
      "source": [
        "### .astype(np.bool_)\n",
        "\n",
        "También se puede cambiar a tipo booleano recordando que los números diferentes de 0 se convierten en True."
      ],
      "metadata": {
        "id": "ISxceeMmXbJy",
        "cell_id": "48a00a259c3a4cb9b4ededd94a205944",
        "deepnote_app_coordinates": {
          "h": 5,
          "w": 12,
          "x": 0,
          "y": 181
        },
        "deepnote_cell_type": "markdown"
      }
    },
    {
      "cell_type": "code",
      "source": [
        "arr = np.array([0, 1, 2, 3, 4])\n",
        "arr = arr.astype(np.bool_)\n",
        "arr"
      ],
      "metadata": {
        "id": "K2CcO8KVXlsn",
        "colab": {
          "base_uri": "https://localhost:8080/"
        },
        "cell_id": "6046ae203ac145f3add466603ad89a7b",
        "outputId": "e067bf24-a2d7-4658-c6a3-280e6eaadabc",
        "deepnote_app_coordinates": {
          "h": 5,
          "w": 12,
          "x": 0,
          "y": 187
        },
        "deepnote_cell_type": "code"
      },
      "outputs": [
        {
          "output_type": "execute_result",
          "data": {
            "text/plain": "array([False,  True,  True,  True,  True])"
          },
          "metadata": {},
          "execution_count": 7
        }
      ],
      "execution_count": null
    },
    {
      "cell_type": "markdown",
      "source": [
        "### .astype(np.string_)"
      ],
      "metadata": {
        "id": "asHaKQ1WYXJM",
        "cell_id": "aea72a373e444012be27e8f23f001296",
        "deepnote_app_coordinates": {
          "h": 5,
          "w": 12,
          "x": 0,
          "y": 193
        },
        "deepnote_cell_type": "markdown"
      }
    },
    {
      "cell_type": "code",
      "source": [
        "arr = np.array([0, 1, 2, 3, 4])\n",
        "arr = arr.astype(np.string_)\n",
        "arr"
      ],
      "metadata": {
        "id": "kv1xnvNBYviz",
        "cell_id": "de1af3a0dc4d4f4aa949b9ab76389d63",
        "deepnote_app_coordinates": {
          "h": 5,
          "w": 12,
          "x": 0,
          "y": 199
        },
        "deepnote_cell_type": "code"
      },
      "outputs": [],
      "execution_count": null
    },
    {
      "cell_type": "markdown",
      "source": [
        "### .astype(np.int8)\n",
        "\n",
        "De igual manera, se puede pasar de string a número.\n",
        "\n",
        "__(Si un elemento no es de tipo número, el método falla.)__"
      ],
      "metadata": {
        "id": "ubBwV2KEZG7A",
        "cell_id": "3c1cb02b392c4f34ae7c61fb6fd29481",
        "deepnote_app_coordinates": {
          "h": 5,
          "w": 12,
          "x": 0,
          "y": 205
        },
        "deepnote_cell_type": "markdown"
      }
    },
    {
      "cell_type": "code",
      "source": [
        "arr = np.array(['0', '1', '2', '3', '4'])\n",
        "arr = arr.astype(np.int8)\n",
        "arr"
      ],
      "metadata": {
        "id": "4JRqN5uPZHor",
        "colab": {
          "base_uri": "https://localhost:8080/"
        },
        "cell_id": "3f211369f2f6421591093e1f521f9bc2",
        "outputId": "6298d099-12c0-46b4-af8b-a59b42aef490",
        "deepnote_app_coordinates": {
          "h": 5,
          "w": 12,
          "x": 0,
          "y": 211
        },
        "deepnote_cell_type": "code"
      },
      "outputs": [
        {
          "output_type": "execute_result",
          "data": {
            "text/plain": "array([0, 1, 2, 3, 4], dtype=int8)"
          },
          "metadata": {},
          "execution_count": 9
        }
      ],
      "execution_count": null
    },
    {
      "cell_type": "code",
      "source": [
        "arr = np.array(['hola','0', '1', '2', '3', '4'])\n",
        "arr = arr.astype(np.int8)\n",
        "arr"
      ],
      "metadata": {
        "id": "uGeZDFniZtZ_",
        "colab": {
          "height": 198,
          "base_uri": "https://localhost:8080/"
        },
        "cell_id": "223f1aa49c7b46f5ba1b7972685d1c33",
        "outputId": "74495172-a9cf-437c-c0c3-bf17a5793cc5",
        "deepnote_app_coordinates": {
          "h": 5,
          "w": 12,
          "x": 0,
          "y": 217
        },
        "deepnote_cell_type": "code"
      },
      "outputs": [
        {
          "output_type": "error",
          "ename": "ValueError",
          "evalue": "ignored",
          "traceback": [
            "\u001b[0;31m---------------------------------------------------------------------------\u001b[0m",
            "\u001b[0;31mValueError\u001b[0m                                Traceback (most recent call last)",
            "\u001b[0;32m<ipython-input-8-dcfd63ea9480>\u001b[0m in \u001b[0;36m<module>\u001b[0;34m\u001b[0m\n\u001b[1;32m      1\u001b[0m \u001b[0marr\u001b[0m \u001b[0;34m=\u001b[0m \u001b[0mnp\u001b[0m\u001b[0;34m.\u001b[0m\u001b[0marray\u001b[0m\u001b[0;34m(\u001b[0m\u001b[0;34m[\u001b[0m\u001b[0;34m'hola'\u001b[0m\u001b[0;34m,\u001b[0m\u001b[0;34m'0'\u001b[0m\u001b[0;34m,\u001b[0m \u001b[0;34m'1'\u001b[0m\u001b[0;34m,\u001b[0m \u001b[0;34m'2'\u001b[0m\u001b[0;34m,\u001b[0m \u001b[0;34m'3'\u001b[0m\u001b[0;34m,\u001b[0m \u001b[0;34m'4'\u001b[0m\u001b[0;34m]\u001b[0m\u001b[0;34m)\u001b[0m\u001b[0;34m\u001b[0m\u001b[0;34m\u001b[0m\u001b[0m\n\u001b[0;32m----> 2\u001b[0;31m \u001b[0marr\u001b[0m \u001b[0;34m=\u001b[0m \u001b[0marr\u001b[0m\u001b[0;34m.\u001b[0m\u001b[0mastype\u001b[0m\u001b[0;34m(\u001b[0m\u001b[0mnp\u001b[0m\u001b[0;34m.\u001b[0m\u001b[0mint8\u001b[0m\u001b[0;34m)\u001b[0m\u001b[0;34m\u001b[0m\u001b[0;34m\u001b[0m\u001b[0m\n\u001b[0m\u001b[1;32m      3\u001b[0m \u001b[0marr\u001b[0m\u001b[0;34m\u001b[0m\u001b[0;34m\u001b[0m\u001b[0m\n",
            "\u001b[0;31mValueError\u001b[0m: invalid literal for int() with base 10: 'hola'"
          ]
        }
      ],
      "execution_count": null
    },
    {
      "cell_type": "markdown",
      "source": [
        "<a style='text-decoration:none;line-height:16px;display:flex;color:#5B5B62;padding:10px;justify-content:end;' href='https://deepnote.com?utm_source=created-in-deepnote-cell&projectId=c8549269-a2eb-416d-b4b6-9a86d3809a7d' target=\"_blank\">\n",
        "<img alt='Created in deepnote.com' style='display:inline;max-height:16px;margin:0px;margin-right:7.5px;' src='data:image/svg+xml;base64,PD94bWwgdmVyc2lvbj0iMS4wIiBlbmNvZGluZz0iVVRGLTgiPz4KPHN2ZyB3aWR0aD0iODBweCIgaGVpZ2h0PSI4MHB4IiB2aWV3Qm94PSIwIDAgODAgODAiIHZlcnNpb249IjEuMSIgeG1sbnM9Imh0dHA6Ly93d3cudzMub3JnLzIwMDAvc3ZnIiB4bWxuczp4bGluaz0iaHR0cDovL3d3dy53My5vcmcvMTk5OS94bGluayI+CiAgICA8IS0tIEdlbmVyYXRvcjogU2tldGNoIDU0LjEgKDc2NDkwKSAtIGh0dHBzOi8vc2tldGNoYXBwLmNvbSAtLT4KICAgIDx0aXRsZT5Hcm91cCAzPC90aXRsZT4KICAgIDxkZXNjPkNyZWF0ZWQgd2l0aCBTa2V0Y2guPC9kZXNjPgogICAgPGcgaWQ9IkxhbmRpbmciIHN0cm9rZT0ibm9uZSIgc3Ryb2tlLXdpZHRoPSIxIiBmaWxsPSJub25lIiBmaWxsLXJ1bGU9ImV2ZW5vZGQiPgogICAgICAgIDxnIGlkPSJBcnRib2FyZCIgdHJhbnNmb3JtPSJ0cmFuc2xhdGUoLTEyMzUuMDAwMDAwLCAtNzkuMDAwMDAwKSI+CiAgICAgICAgICAgIDxnIGlkPSJHcm91cC0zIiB0cmFuc2Zvcm09InRyYW5zbGF0ZSgxMjM1LjAwMDAwMCwgNzkuMDAwMDAwKSI+CiAgICAgICAgICAgICAgICA8cG9seWdvbiBpZD0iUGF0aC0yMCIgZmlsbD0iIzAyNjVCNCIgcG9pbnRzPSIyLjM3NjIzNzYyIDgwIDM4LjA0NzY2NjcgODAgNTcuODIxNzgyMiA3My44MDU3NTkyIDU3LjgyMTc4MjIgMzIuNzU5MjczOSAzOS4xNDAyMjc4IDMxLjY4MzE2ODMiPjwvcG9seWdvbj4KICAgICAgICAgICAgICAgIDxwYXRoIGQ9Ik0zNS4wMDc3MTgsODAgQzQyLjkwNjIwMDcsNzYuNDU0OTM1OCA0Ny41NjQ5MTY3LDcxLjU0MjI2NzEgNDguOTgzODY2LDY1LjI2MTk5MzkgQzUxLjExMjI4OTksNTUuODQxNTg0MiA0MS42NzcxNzk1LDQ5LjIxMjIyODQgMjUuNjIzOTg0Niw0OS4yMTIyMjg0IEMyNS40ODQ5Mjg5LDQ5LjEyNjg0NDggMjkuODI2MTI5Niw0My4yODM4MjQ4IDM4LjY0NzU4NjksMzEuNjgzMTY4MyBMNzIuODcxMjg3MSwzMi41NTQ0MjUgTDY1LjI4MDk3Myw2Ny42NzYzNDIxIEw1MS4xMTIyODk5LDc3LjM3NjE0NCBMMzUuMDA3NzE4LDgwIFoiIGlkPSJQYXRoLTIyIiBmaWxsPSIjMDAyODY4Ij48L3BhdGg+CiAgICAgICAgICAgICAgICA8cGF0aCBkPSJNMCwzNy43MzA0NDA1IEwyNy4xMTQ1MzcsMC4yNTcxMTE0MzYgQzYyLjM3MTUxMjMsLTEuOTkwNzE3MDEgODAsMTAuNTAwMzkyNyA4MCwzNy43MzA0NDA1IEM4MCw2NC45NjA0ODgyIDY0Ljc3NjUwMzgsNzkuMDUwMzQxNCAzNC4zMjk1MTEzLDgwIEM0Ny4wNTUzNDg5LDc3LjU2NzA4MDggNTMuNDE4MjY3Nyw3MC4zMTM2MTAzIDUzLjQxODI2NzcsNTguMjM5NTg4NSBDNTMuNDE4MjY3Nyw0MC4xMjg1NTU3IDM2LjMwMzk1NDQsMzcuNzMwNDQwNSAyNS4yMjc0MTcsMzcuNzMwNDQwNSBDMTcuODQzMDU4NiwzNy43MzA0NDA1IDkuNDMzOTE5NjYsMzcuNzMwNDQwNSAwLDM3LjczMDQ0MDUgWiIgaWQ9IlBhdGgtMTkiIGZpbGw9IiMzNzkzRUYiPjwvcGF0aD4KICAgICAgICAgICAgPC9nPgogICAgICAgIDwvZz4KICAgIDwvZz4KPC9zdmc+' > </img>\n",
        "Created in <span style='font-weight:600;margin-left:4px;'>Deepnote</span></a>"
      ],
      "metadata": {
        "tags": [],
        "created_in_deepnote_cell": true,
        "deepnote_cell_type": "markdown",
        "id": "jXpCRmGwjJ0e"
      }
    }
  ],
  "nbformat": 4,
  "nbformat_minor": 0,
  "metadata": {
    "colab": {
      "provenance": [],
      "toc_visible": true,
      "include_colab_link": true
    },
    "deepnote": {},
    "kernelspec": {
      "name": "python3",
      "display_name": "Python 3"
    },
    "language_info": {
      "name": "python"
    },
    "deepnote_app_layout": "article",
    "deepnote_notebook_id": "4d43e66b8bfb4e779ad9ef5480cfeadc",
    "deepnote_execution_queue": []
  }
}