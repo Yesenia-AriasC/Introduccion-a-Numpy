{
  "nbformat": 4,
  "nbformat_minor": 0,
  "metadata": {
    "colab": {
      "provenance": [],
      "toc_visible": true,
      "authorship_tag": "ABX9TyOmtAIUDaQdSSN3/w9nDN6Q",
      "include_colab_link": true
    },
    "kernelspec": {
      "name": "python3",
      "display_name": "Python 3"
    },
    "language_info": {
      "name": "python"
    }
  },
  "cells": [
    {
      "cell_type": "markdown",
      "metadata": {
        "id": "view-in-github",
        "colab_type": "text"
      },
      "source": [
        "<a href=\"https://colab.research.google.com/github/Yesenia-AriasC/Introduccion-a-Numpy/blob/main/7_Condiciones.ipynb\" target=\"_parent\"><img src=\"https://colab.research.google.com/assets/colab-badge.svg\" alt=\"Open In Colab\"/></a>"
      ]
    },
    {
      "cell_type": "code",
      "source": [
        "import numpy as np"
      ],
      "metadata": {
        "id": "vC3hXF2xm3O4"
      },
      "execution_count": 2,
      "outputs": []
    },
    {
      "cell_type": "markdown",
      "source": [
        "# Condiciones\n",
        "\n",
        "Permiten hacer consultas más específicas."
      ],
      "metadata": {
        "id": "Ps4HdWHHmRaD"
      }
    },
    {
      "cell_type": "code",
      "source": [
        "# Creamos un arreglo que inicie el 1 y termine en 10, con 10 divisiones\n",
        "\n",
        "arr = np.linspace(1,10,10, dtype = 'int8')\n",
        "arr"
      ],
      "metadata": {
        "colab": {
          "base_uri": "https://localhost:8080/"
        },
        "id": "oMt9ueAXmRGi",
        "outputId": "42e6f0b1-2752-41d3-b301-2d1a04abe316"
      },
      "execution_count": 3,
      "outputs": [
        {
          "output_type": "execute_result",
          "data": {
            "text/plain": [
              "array([ 1,  2,  3,  4,  5,  6,  7,  8,  9, 10], dtype=int8)"
            ]
          },
          "metadata": {},
          "execution_count": 3
        }
      ]
    },
    {
      "cell_type": "markdown",
      "source": [
        "## Array Booleano ¿cumplen la condición?\n",
        "\n",
        "Señala qué posiciones cumplen con la condición."
      ],
      "metadata": {
        "id": "ItDGGujaoI84"
      }
    },
    {
      "cell_type": "code",
      "execution_count": 4,
      "metadata": {
        "colab": {
          "base_uri": "https://localhost:8080/"
        },
        "id": "CtWOLqVkl-Tq",
        "outputId": "709e7655-a7b8-4ee5-ee71-dff54a501ed3"
      },
      "outputs": [
        {
          "output_type": "execute_result",
          "data": {
            "text/plain": [
              "array([False, False, False, False, False,  True,  True,  True,  True,\n",
              "        True])"
            ]
          },
          "metadata": {},
          "execution_count": 4
        }
      ],
      "source": [
        "indices_cond = arr > 5\n",
        "indices_cond"
      ]
    },
    {
      "cell_type": "markdown",
      "source": [
        "## Array de los valores que cumplen la condición\n",
        "Regresa los valores para dónde la condiciones True.\n",
        "\n",
        "(Es una esoecie de slice pero que tiene en cuenta la condición)"
      ],
      "metadata": {
        "id": "Jmkjpnbzorvo"
      }
    },
    {
      "cell_type": "code",
      "source": [
        "arr[indices_cond] "
      ],
      "metadata": {
        "colab": {
          "base_uri": "https://localhost:8080/"
        },
        "id": "uWDTgAJzo4qS",
        "outputId": "a3f11f01-013f-4e58-8d42-c366bc013d26"
      },
      "execution_count": 5,
      "outputs": [
        {
          "output_type": "execute_result",
          "data": {
            "text/plain": [
              "array([ 6,  7,  8,  9, 10], dtype=int8)"
            ]
          },
          "metadata": {},
          "execution_count": 5
        }
      ]
    },
    {
      "cell_type": "markdown",
      "source": [
        "## Modificar los valores que cumplan la condición"
      ],
      "metadata": {
        "id": "E5abCbsLrPkM"
      }
    },
    {
      "cell_type": "code",
      "source": [
        "arr[arr > 5] = 99\n",
        "arr"
      ],
      "metadata": {
        "colab": {
          "base_uri": "https://localhost:8080/"
        },
        "id": "8Gu6GCr4rSfN",
        "outputId": "1995b1fe-b89b-4280-ea4f-ba6c130b8685"
      },
      "execution_count": 7,
      "outputs": [
        {
          "output_type": "execute_result",
          "data": {
            "text/plain": [
              "array([ 1,  2,  3,  4,  5, 99, 99, 99, 99, 99], dtype=int8)"
            ]
          },
          "metadata": {},
          "execution_count": 7
        }
      ]
    },
    {
      "cell_type": "markdown",
      "source": [
        "# Múltiples condiciones"
      ],
      "metadata": {
        "id": "F2XdxZIqqCr9"
      }
    },
    {
      "cell_type": "markdown",
      "source": [
        "## Conjunción | &\n",
        "\n",
        "(Es una esoecie de slice pero que tiene en cuenta la condición conjunta)"
      ],
      "metadata": {
        "id": "5D31QMD-qtbR"
      }
    },
    {
      "cell_type": "code",
      "source": [
        "arr[(arr > 5) & (arr < 9)] "
      ],
      "metadata": {
        "colab": {
          "base_uri": "https://localhost:8080/"
        },
        "id": "QrZoxSa2q1q2",
        "outputId": "d564ef89-2664-49e6-c2b9-32eee41f9cbb"
      },
      "execution_count": 6,
      "outputs": [
        {
          "output_type": "execute_result",
          "data": {
            "text/plain": [
              "array([6, 7, 8], dtype=int8)"
            ]
          },
          "metadata": {},
          "execution_count": 6
        }
      ]
    },
    {
      "cell_type": "markdown",
      "source": [
        "## np.where(condicion, valor si cumple, valor si no cumple)"
      ],
      "metadata": {
        "id": "LJMQCXuKrafz"
      }
    },
    {
      "cell_type": "code",
      "source": [
        "matriz = np.array([[19,  4, 43],\n",
        "       [ 8, 96, 80],\n",
        "       [ 6, 99, 35]])"
      ],
      "metadata": {
        "id": "vHzqupHpr-ZP"
      },
      "execution_count": 9,
      "outputs": []
    },
    {
      "cell_type": "code",
      "source": [
        "np.where(matriz > 50, 0, 1)"
      ],
      "metadata": {
        "colab": {
          "base_uri": "https://localhost:8080/"
        },
        "id": "R5OInLeer-Ik",
        "outputId": "182294fe-edaa-45ba-ce95-37087510f6bb"
      },
      "execution_count": 10,
      "outputs": [
        {
          "output_type": "execute_result",
          "data": {
            "text/plain": [
              "array([[1, 1, 1],\n",
              "       [1, 0, 0],\n",
              "       [1, 0, 1]])"
            ]
          },
          "metadata": {},
          "execution_count": 10
        }
      ]
    }
  ]
}