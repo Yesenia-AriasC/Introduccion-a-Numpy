{
  "nbformat": 4,
  "nbformat_minor": 0,
  "metadata": {
    "colab": {
      "provenance": [],
      "toc_visible": true,
      "authorship_tag": "ABX9TyOqDL5i7fTLJNjtZXxfRfjr",
      "include_colab_link": true
    },
    "kernelspec": {
      "name": "python3",
      "display_name": "Python 3"
    },
    "language_info": {
      "name": "python"
    }
  },
  "cells": [
    {
      "cell_type": "markdown",
      "metadata": {
        "id": "view-in-github",
        "colab_type": "text"
      },
      "source": [
        "<a href=\"https://colab.research.google.com/github/Yesenia-AriasC/Introduccion-a-Numpy/blob/main/3_Creando_Arrays.ipynb\" target=\"_parent\"><img src=\"https://colab.research.google.com/assets/colab-badge.svg\" alt=\"Open In Colab\"/></a>"
      ]
    },
    {
      "cell_type": "code",
      "source": [
        "import numpy as np"
      ],
      "metadata": {
        "id": "_ZqUKbT-0N1-"
      },
      "execution_count": null,
      "outputs": []
    },
    {
      "cell_type": "markdown",
      "source": [
        "Numpy ofrece diferentes formas para crear un array,  para ver todas, hacer clic [aquí](https://numpy.org/doc/stable/reference/routines.array-creation.html).\n",
        "Algunas de estas son:"
      ],
      "metadata": {
        "id": "NYxC5QANzh0T"
      }
    },
    {
      "cell_type": "markdown",
      "source": [
        "# Crear array sin definir una lista previamente"
      ],
      "metadata": {
        "id": "h-Qx069Xz95B"
      }
    },
    {
      "cell_type": "markdown",
      "source": [
        "## .arange()"
      ],
      "metadata": {
        "id": "9Qz_NWBo_6ck"
      }
    },
    {
      "cell_type": "code",
      "execution_count": null,
      "metadata": {
        "colab": {
          "base_uri": "https://localhost:8080/"
        },
        "id": "8saRV_MjzcKv",
        "outputId": "281f38a0-0491-4acc-b2ac-30502463b385"
      },
      "outputs": [
        {
          "output_type": "execute_result",
          "data": {
            "text/plain": [
              "array([0, 1, 2, 3, 4, 5, 6, 7, 8, 9])"
            ]
          },
          "metadata": {},
          "execution_count": 3
        }
      ],
      "source": [
        "np.arange(0,10)"
      ]
    },
    {
      "cell_type": "markdown",
      "source": [
        "Un tercer argumento dice el \"salto\" "
      ],
      "metadata": {
        "id": "BeQj42eCziac"
      }
    },
    {
      "cell_type": "code",
      "source": [
        "np.arange(0,20,2)"
      ],
      "metadata": {
        "colab": {
          "base_uri": "https://localhost:8080/"
        },
        "id": "r4CoFagJzivh",
        "outputId": "c65588bd-847c-4dfb-dbc7-21c94eb4bf20"
      },
      "execution_count": null,
      "outputs": [
        {
          "output_type": "execute_result",
          "data": {
            "text/plain": [
              "array([ 0,  2,  4,  6,  8, 10, 12, 14, 16, 18])"
            ]
          },
          "metadata": {},
          "execution_count": 4
        }
      ]
    },
    {
      "cell_type": "markdown",
      "source": [
        "# Definir estructuras o esquemas\n",
        "ver todas las formas [aquí](https://numpy.org/doc/stable/reference/routines.array-creation.html#from-shape-or-value)"
      ],
      "metadata": {
        "id": "ekUfij6nzjLa"
      }
    },
    {
      "cell_type": "markdown",
      "source": [
        "## .zeros()"
      ],
      "metadata": {
        "id": "1FNIuL5b_zqE"
      }
    },
    {
      "cell_type": "code",
      "source": [
        "np.zeros(3)\n"
      ],
      "metadata": {
        "colab": {
          "base_uri": "https://localhost:8080/"
        },
        "id": "VLwyV79Gzjtv",
        "outputId": "76449260-705a-47c2-842c-a64e2dc2f087"
      },
      "execution_count": null,
      "outputs": [
        {
          "output_type": "execute_result",
          "data": {
            "text/plain": [
              "array([0., 0., 0.])"
            ]
          },
          "metadata": {},
          "execution_count": 5
        }
      ]
    },
    {
      "cell_type": "code",
      "source": [
        "np.zeros((10,5))"
      ],
      "metadata": {
        "colab": {
          "base_uri": "https://localhost:8080/"
        },
        "id": "S5Mu9XQ1912T",
        "outputId": "27f9ee74-89b5-47df-dd87-476d598d03c9"
      },
      "execution_count": null,
      "outputs": [
        {
          "output_type": "execute_result",
          "data": {
            "text/plain": [
              "array([[0., 0., 0., 0., 0.],\n",
              "       [0., 0., 0., 0., 0.],\n",
              "       [0., 0., 0., 0., 0.],\n",
              "       [0., 0., 0., 0., 0.],\n",
              "       [0., 0., 0., 0., 0.],\n",
              "       [0., 0., 0., 0., 0.],\n",
              "       [0., 0., 0., 0., 0.],\n",
              "       [0., 0., 0., 0., 0.],\n",
              "       [0., 0., 0., 0., 0.],\n",
              "       [0., 0., 0., 0., 0.]])"
            ]
          },
          "metadata": {},
          "execution_count": 38
        }
      ]
    },
    {
      "cell_type": "code",
      "source": [
        "#help(np.zeros)"
      ],
      "metadata": {
        "id": "wUfyUOxZLgBU"
      },
      "execution_count": null,
      "outputs": []
    },
    {
      "cell_type": "markdown",
      "source": [
        "## .ones()"
      ],
      "metadata": {
        "id": "_9g1fGXnzkTn"
      }
    },
    {
      "cell_type": "code",
      "source": [
        "np.ones(3)"
      ],
      "metadata": {
        "colab": {
          "base_uri": "https://localhost:8080/"
        },
        "id": "KDWd_lmbzk1j",
        "outputId": "0a244621-33e3-4a4b-e761-8bf745bc0c96"
      },
      "execution_count": null,
      "outputs": [
        {
          "output_type": "execute_result",
          "data": {
            "text/plain": [
              "array([1., 1., 1.])"
            ]
          },
          "metadata": {},
          "execution_count": 7
        }
      ]
    },
    {
      "cell_type": "markdown",
      "source": [
        "# Rangos numéricos | .linspace()\n",
        "\n",
        "para ver todas las formas de crear arrays numéricos, clic [aquí](https://numpy.org/doc/stable/reference/routines.array-creation.html#numerical-ranges)."
      ],
      "metadata": {
        "id": "_QVDuGd8zlRr"
      }
    },
    {
      "cell_type": "markdown",
      "source": [
        "```np.linspace()``` Permite generar una array definiendo un inicio, un final y cuantas divisiones tendrá."
      ],
      "metadata": {
        "id": "AUPULJAfA7t2"
      }
    },
    {
      "cell_type": "code",
      "source": [
        "np.linspace(0,10,10) # Inicia en 0, termina en 10 y tiene 10 divisiones"
      ],
      "metadata": {
        "colab": {
          "base_uri": "https://localhost:8080/"
        },
        "id": "roOgLSWszlpb",
        "outputId": "fa956d1b-f1b5-4ff6-f62e-f7d1f0d58848"
      },
      "execution_count": null,
      "outputs": [
        {
          "output_type": "execute_result",
          "data": {
            "text/plain": [
              "array([ 0.        ,  1.11111111,  2.22222222,  3.33333333,  4.44444444,\n",
              "        5.55555556,  6.66666667,  7.77777778,  8.88888889, 10.        ])"
            ]
          },
          "metadata": {},
          "execution_count": 8
        }
      ]
    },
    {
      "cell_type": "markdown",
      "source": [
        "# matriz diagonal | .eye()\n",
        "\n",
        "https://numpy.org/doc/stable/reference/routines.array-creation.html#from-shape-or-value"
      ],
      "metadata": {
        "id": "65PWYKs2zmFv"
      }
    },
    {
      "cell_type": "code",
      "source": [
        "np.eye(6)"
      ],
      "metadata": {
        "colab": {
          "base_uri": "https://localhost:8080/"
        },
        "id": "p2ehAGYczma3",
        "outputId": "5deb7916-6c57-4b3a-f682-5283e22e147a"
      },
      "execution_count": null,
      "outputs": [
        {
          "output_type": "execute_result",
          "data": {
            "text/plain": [
              "array([[1., 0., 0., 0., 0., 0.],\n",
              "       [0., 1., 0., 0., 0., 0.],\n",
              "       [0., 0., 1., 0., 0., 0.],\n",
              "       [0., 0., 0., 1., 0., 0.],\n",
              "       [0., 0., 0., 0., 1., 0.],\n",
              "       [0., 0., 0., 0., 0., 1.]])"
            ]
          },
          "metadata": {},
          "execution_count": 11
        }
      ]
    },
    {
      "cell_type": "markdown",
      "source": [
        "# Generar aleatorios\n"
      ],
      "metadata": {
        "id": "0JmN3QcTznJR"
      }
    },
    {
      "cell_type": "markdown",
      "source": [
        "[numpy.random](https://numpy.org/doc/1.16/reference/routines.random.html)\n",
        "\n",
        "* __rand(d0, d1, …, dn)__\tRandom values in a given shape.\n",
        "\n",
        "* __randn(d0, d1, …, dn)__\tReturn a sample (or samples) from the “standard normal” distribution.\n",
        "\n",
        "* __randint(low[, high, size, dtype])__\tReturn random integers from low (inclusive) to high (exclusive).\n",
        "\n",
        "* __random_integers(low[, high, size])__\tRandom integers of type np.int between low and high, inclusive.\n",
        "\n",
        "* __random_sample([size])__\tReturn random floats in the half-open interval [0.0, 1.0).\n",
        "\n",
        "* __random([size])__\tReturn random floats in the half-open interval [0.0, 1.0).\n",
        "\n",
        "* __ranf([size])__\tReturn random floats in the half-open interval [0.0, 1.0).\n",
        "\n",
        "* __sample([size])__\tReturn random floats in the half-open interval [0.0, 1.0).\n",
        "\n",
        "* __choice(a[, size, replace, p])__\tGenerates a random sample from a given 1-D array\n",
        "bytes(length)\tReturn random bytes."
      ],
      "metadata": {
        "id": "YpUMyHPjFACi"
      }
    },
    {
      "cell_type": "markdown",
      "source": [
        "## .rand()"
      ],
      "metadata": {
        "id": "9plZd0imGGoE"
      }
    },
    {
      "cell_type": "code",
      "source": [
        "np.random.rand()"
      ],
      "metadata": {
        "colab": {
          "base_uri": "https://localhost:8080/"
        },
        "id": "JHjxhLAGznjg",
        "outputId": "a8114bf4-e6ac-4e88-c311-f26da1fb6437"
      },
      "execution_count": null,
      "outputs": [
        {
          "output_type": "execute_result",
          "data": {
            "text/plain": [
              "0.583853914627645"
            ]
          },
          "metadata": {},
          "execution_count": 13
        }
      ]
    },
    {
      "cell_type": "code",
      "source": [
        "np.random.rand(4)"
      ],
      "metadata": {
        "colab": {
          "base_uri": "https://localhost:8080/"
        },
        "id": "MCbqSLVeDh2G",
        "outputId": "1549410e-c7a3-4c2f-e365-5ea9cfc0dac6"
      },
      "execution_count": null,
      "outputs": [
        {
          "output_type": "execute_result",
          "data": {
            "text/plain": [
              "array([0.07824048, 0.67194714, 0.99452882, 0.65091395])"
            ]
          },
          "metadata": {},
          "execution_count": 14
        }
      ]
    },
    {
      "cell_type": "code",
      "source": [
        "np.random.rand(4,4)"
      ],
      "metadata": {
        "colab": {
          "base_uri": "https://localhost:8080/"
        },
        "id": "APn8dgg9DiUj",
        "outputId": "2b10d449-20b1-4033-984c-8d9e30c314b0"
      },
      "execution_count": null,
      "outputs": [
        {
          "output_type": "execute_result",
          "data": {
            "text/plain": [
              "array([[0.58742795, 0.45801097, 0.64438875, 0.84997927],\n",
              "       [0.78748387, 0.27100207, 0.48035921, 0.50784157],\n",
              "       [0.64494721, 0.15508981, 0.53442992, 0.56887089],\n",
              "       [0.23677076, 0.86276861, 0.56618108, 0.99402121]])"
            ]
          },
          "metadata": {},
          "execution_count": 15
        }
      ]
    },
    {
      "cell_type": "markdown",
      "source": [
        "## .randint()\n",
        "Generar números enteros"
      ],
      "metadata": {
        "id": "rUFTOAhszoDR"
      }
    },
    {
      "cell_type": "code",
      "source": [
        "# generar enteros del 1 al 14\n",
        "np.random.randint(1, 15)"
      ],
      "metadata": {
        "colab": {
          "base_uri": "https://localhost:8080/"
        },
        "id": "0feBc-AKzose",
        "outputId": "d0c1e617-9d78-4be5-bfe6-4175acb06244"
      },
      "execution_count": null,
      "outputs": [
        {
          "output_type": "execute_result",
          "data": {
            "text/plain": [
              "12"
            ]
          },
          "metadata": {},
          "execution_count": 21
        }
      ]
    },
    {
      "cell_type": "code",
      "source": [
        "np.random.randint(1, 15, (3,2))"
      ],
      "metadata": {
        "colab": {
          "base_uri": "https://localhost:8080/"
        },
        "id": "78tb-u_MGvj8",
        "outputId": "63fc47c8-a702-4838-f2b1-cf838a52bd8f"
      },
      "execution_count": null,
      "outputs": [
        {
          "output_type": "execute_result",
          "data": {
            "text/plain": [
              "array([[13,  1],\n",
              "       [ 4, 13],\n",
              "       [ 4,  7]])"
            ]
          },
          "metadata": {},
          "execution_count": 23
        }
      ]
    },
    {
      "cell_type": "markdown",
      "source": [
        "## Bajo una distribución de probabilidad\n"
      ],
      "metadata": {
        "id": "dpQFypH8INgn"
      }
    },
    {
      "cell_type": "markdown",
      "source": [
        "[numpy.random](https://numpy.org/doc/1.16/reference/routines.random.html)\n"
      ],
      "metadata": {
        "id": "F69CczMqIT5m"
      }
    },
    {
      "cell_type": "code",
      "source": [
        "np.random.binomial(3,0.5)"
      ],
      "metadata": {
        "colab": {
          "base_uri": "https://localhost:8080/"
        },
        "id": "m9vZcfGrH-O4",
        "outputId": "d7229ede-8875-4e9c-d291-5f13d4c81a2d"
      },
      "execution_count": null,
      "outputs": [
        {
          "output_type": "execute_result",
          "data": {
            "text/plain": [
              "2"
            ]
          },
          "metadata": {},
          "execution_count": 24
        }
      ]
    },
    {
      "cell_type": "code",
      "source": [
        "from numpy.random import binomial\n",
        "binomial(3,0.5)"
      ],
      "metadata": {
        "colab": {
          "base_uri": "https://localhost:8080/"
        },
        "id": "7LzVwLnDIZoo",
        "outputId": "d5f16e28-480d-4a2f-a8db-60051421e2df"
      },
      "execution_count": null,
      "outputs": [
        {
          "output_type": "execute_result",
          "data": {
            "text/plain": [
              "3"
            ]
          },
          "metadata": {},
          "execution_count": 25
        }
      ]
    },
    {
      "cell_type": "markdown",
      "source": [
        "Para ver más sobre esto, revisar [aquí](https://github.com/Yesenia-AriasC/Probabilidad/blob/c666ac22a1575c39cbe425cdb07aaf2821fd004f/Probabilidad_distrosDiscretas_Básicos.ipynb)."
      ],
      "metadata": {
        "id": "ILX6XEwQIW8X"
      }
    }
  ]
}