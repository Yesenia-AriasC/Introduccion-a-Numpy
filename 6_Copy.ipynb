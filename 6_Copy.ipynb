{
  "nbformat": 4,
  "nbformat_minor": 0,
  "metadata": {
    "colab": {
      "provenance": [],
      "toc_visible": true,
      "authorship_tag": "ABX9TyPbT/69x1uKJ73nLnsl8rHk",
      "include_colab_link": true
    },
    "kernelspec": {
      "name": "python3",
      "display_name": "Python 3"
    },
    "language_info": {
      "name": "python"
    }
  },
  "cells": [
    {
      "cell_type": "markdown",
      "metadata": {
        "id": "view-in-github",
        "colab_type": "text"
      },
      "source": [
        "<a href=\"https://colab.research.google.com/github/Yesenia-AriasC/Introduccion-a-Numpy/blob/main/6_Copy.ipynb\" target=\"_parent\"><img src=\"https://colab.research.google.com/assets/colab-badge.svg\" alt=\"Open In Colab\"/></a>"
      ]
    },
    {
      "cell_type": "code",
      "source": [
        "import numpy as np"
      ],
      "metadata": {
        "id": "VOJWf8ordvws"
      },
      "execution_count": 1,
      "outputs": []
    },
    {
      "cell_type": "markdown",
      "source": [
        "# Copy\n",
        "\n",
        "Ver en la documentación [aquí](https://numpy.org/doc/stable/reference/generated/numpy.copy.html)"
      ],
      "metadata": {
        "id": "cu0xVNMydcD9"
      }
    },
    {
      "cell_type": "markdown",
      "source": [
        "```.copy()``` nos permite copiar un array de NumPy en otra variable de tal forma que al modificar el nuevo array los cambios no se vean reflejados en array original."
      ],
      "metadata": {
        "id": "IvW8DKmudlUO"
      }
    },
    {
      "cell_type": "markdown",
      "source": [
        "## Ejemplo"
      ],
      "metadata": {
        "id": "HuAgbtyqekLF"
      }
    },
    {
      "cell_type": "code",
      "execution_count": 3,
      "metadata": {
        "colab": {
          "base_uri": "https://localhost:8080/"
        },
        "id": "dT5V_qBldWhT",
        "outputId": "413f21a6-143a-4530-eae1-692c3df85046"
      },
      "outputs": [
        {
          "output_type": "execute_result",
          "data": {
            "text/plain": [
              "array([ 0,  1,  2,  3,  4,  5,  6,  7,  8,  9, 10])"
            ]
          },
          "metadata": {},
          "execution_count": 3
        }
      ],
      "source": [
        "# Recuperar el arreglo anterior\n",
        "arr = np.arange(0,11)\n",
        "\n",
        "# Resultado\n",
        "arr"
      ]
    },
    {
      "cell_type": "code",
      "source": [
        "# Tomamos un trozo del arreglo\n",
        "trozo_de_arr = arr[0:6]"
      ],
      "metadata": {
        "id": "B2Exg5XPeVcj"
      },
      "execution_count": 4,
      "outputs": []
    },
    {
      "cell_type": "markdown",
      "source": [
        "Queremos pasar todas nuestras variables a 0"
      ],
      "metadata": {
        "id": "Zu5Lv-0XevBx"
      }
    },
    {
      "cell_type": "code",
      "source": [
        "trozo_de_arr[:] = 0\n",
        "trozo_de_arr "
      ],
      "metadata": {
        "colab": {
          "base_uri": "https://localhost:8080/"
        },
        "id": "JY5eIwDUewOx",
        "outputId": "9d40ee81-6d14-49f2-89c8-90479e929fc3"
      },
      "execution_count": 5,
      "outputs": [
        {
          "output_type": "execute_result",
          "data": {
            "text/plain": [
              "array([0, 0, 0, 0, 0, 0])"
            ]
          },
          "metadata": {},
          "execution_count": 5
        }
      ]
    },
    {
      "cell_type": "markdown",
      "source": [
        "Se han modificado los datos del array original porque seguía haciendo referencia a esa variable."
      ],
      "metadata": {
        "id": "q6Gq66hGe508"
      }
    },
    {
      "cell_type": "code",
      "source": [
        "arr"
      ],
      "metadata": {
        "colab": {
          "base_uri": "https://localhost:8080/"
        },
        "id": "yNpjBFv0e6wk",
        "outputId": "0c012d1e-450d-4a5a-b45a-6da771a2d926"
      },
      "execution_count": 6,
      "outputs": [
        {
          "output_type": "execute_result",
          "data": {
            "text/plain": [
              "array([ 0,  0,  0,  0,  0,  0,  6,  7,  8,  9, 10])"
            ]
          },
          "metadata": {},
          "execution_count": 6
        }
      ]
    },
    {
      "cell_type": "markdown",
      "source": [
        "### Creando copia\n",
        "\n",
        "Creemos una copia para no dañar el array original"
      ],
      "metadata": {
        "id": "L3aHW1vZfCHH"
      }
    },
    {
      "cell_type": "code",
      "source": [
        "arr_copy = arr.copy()\n",
        "arr_copy[:] = 100"
      ],
      "metadata": {
        "id": "NyWcnIOUfPeS"
      },
      "execution_count": 7,
      "outputs": []
    },
    {
      "cell_type": "code",
      "source": [
        "arr_copy"
      ],
      "metadata": {
        "colab": {
          "base_uri": "https://localhost:8080/"
        },
        "id": "5LdYe_8xfbFH",
        "outputId": "82f0969f-e784-444f-ea82-744537231f95"
      },
      "execution_count": 8,
      "outputs": [
        {
          "output_type": "execute_result",
          "data": {
            "text/plain": [
              "array([100, 100, 100, 100, 100, 100, 100, 100, 100, 100, 100])"
            ]
          },
          "metadata": {},
          "execution_count": 8
        }
      ]
    },
    {
      "cell_type": "code",
      "source": [
        "arr"
      ],
      "metadata": {
        "colab": {
          "base_uri": "https://localhost:8080/"
        },
        "id": "ZPFeax7yfe8-",
        "outputId": "9a7e79bf-151e-4ef7-9f96-27fae8660daa"
      },
      "execution_count": 9,
      "outputs": [
        {
          "output_type": "execute_result",
          "data": {
            "text/plain": [
              "array([ 0,  0,  0,  0,  0,  0,  6,  7,  8,  9, 10])"
            ]
          },
          "metadata": {},
          "execution_count": 9
        }
      ]
    }
  ]
}